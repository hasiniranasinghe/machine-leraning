{
  "nbformat": 4,
  "nbformat_minor": 0,
  "metadata": {
    "colab": {
      "name": "autoencoder.ipynb",
      "provenance": [],
      "authorship_tag": "ABX9TyP6uLWYqD0BuKDvz0PjJkFr",
      "include_colab_link": true
    },
    "kernelspec": {
      "name": "python3",
      "display_name": "Python 3"
    }
  },
  "cells": [
    {
      "cell_type": "markdown",
      "metadata": {
        "id": "view-in-github",
        "colab_type": "text"
      },
      "source": [
        "<a href=\"https://colab.research.google.com/github/hasiniranasinghe/machine-leraning/blob/master/autoencoder.ipynb\" target=\"_parent\"><img src=\"https://colab.research.google.com/assets/colab-badge.svg\" alt=\"Open In Colab\"/></a>"
      ]
    },
    {
      "cell_type": "markdown",
      "metadata": {
        "id": "KTLA7Q8K_mm6",
        "colab_type": "text"
      },
      "source": [
        "#  simple autoencoder"
      ]
    },
    {
      "cell_type": "code",
      "metadata": {
        "id": "RlpS2r1x73UE",
        "colab_type": "code",
        "colab": {}
      },
      "source": [
        "from keras.layers import Input, Dense\n",
        "from keras.models import Model\n",
        "\n",
        "# this is the size of our encoded representations\n",
        "encoding_dim = 32  # 32 floats -> compression of factor 24.5, assuming the input is 784 floats\n",
        "\n",
        "# this is our input placeholder\n",
        "input_img = Input(shape=(784,))\n",
        "# \"encoded\" is the encoded representation of the input\n",
        "encoded = Dense(encoding_dim, activation='relu')(input_img)\n",
        "# \"decoded\" is the lossy reconstruction of the input\n",
        "decoded = Dense(784, activation='sigmoid')(encoded)\n",
        "\n",
        "# this model maps an input to its reconstruction\n",
        "autoencoder = Model(input_img, decoded)"
      ],
      "execution_count": null,
      "outputs": []
    },
    {
      "cell_type": "code",
      "metadata": {
        "id": "-hgMcz9ZAnD6",
        "colab_type": "code",
        "colab": {}
      },
      "source": [
        "# this model maps an input to its encoded representation\n",
        "encoder = Model(input_img, encoded)"
      ],
      "execution_count": 2,
      "outputs": []
    },
    {
      "cell_type": "markdown",
      "metadata": {
        "id": "hlIbk28M-QmP",
        "colab_type": "text"
      },
      "source": [
        " decoder model:"
      ]
    },
    {
      "cell_type": "code",
      "metadata": {
        "id": "uUX5pHos77j9",
        "colab_type": "code",
        "colab": {}
      },
      "source": [
        "# create a placeholder for an encoded (32-dimensional) input\n",
        "encoded_input = Input(shape=(encoding_dim,))\n",
        "# retrieve the last layer of the autoencoder model\n",
        "decoder_layer = autoencoder.layers[-1]\n",
        "# create the decoder model\n",
        "decoder = Model(encoded_input, decoder_layer(encoded_input))"
      ],
      "execution_count": 3,
      "outputs": []
    },
    {
      "cell_type": "code",
      "metadata": {
        "id": "hLwkH7Rk7-Pi",
        "colab_type": "code",
        "colab": {}
      },
      "source": [
        "autoencoder.compile(optimizer='adadelta', loss='binary_crossentropy')"
      ],
      "execution_count": 4,
      "outputs": []
    },
    {
      "cell_type": "code",
      "metadata": {
        "id": "bEAG-yr38Anu",
        "colab_type": "code",
        "colab": {}
      },
      "source": [
        "from keras.datasets import mnist\n",
        "import numpy as np\n",
        "(x_train, _), (x_test, _) = mnist.load_data()"
      ],
      "execution_count": 5,
      "outputs": []
    },
    {
      "cell_type": "code",
      "metadata": {
        "id": "LmfgDPjS8C30",
        "colab_type": "code",
        "colab": {
          "base_uri": "https://localhost:8080/",
          "height": 52
        },
        "outputId": "9e66c09d-ca1e-40cd-c5c3-340d2a81dc7d"
      },
      "source": [
        "x_train = x_train.astype('float32') / 255.\n",
        "x_test = x_test.astype('float32') / 255.\n",
        "x_train = x_train.reshape((len(x_train), np.prod(x_train.shape[1:])))\n",
        "x_test = x_test.reshape((len(x_test), np.prod(x_test.shape[1:])))\n",
        "print (x_train.shape)\n",
        "print (x_test.shape)"
      ],
      "execution_count": 6,
      "outputs": [
        {
          "output_type": "stream",
          "text": [
            "(60000, 784)\n",
            "(10000, 784)\n"
          ],
          "name": "stdout"
        }
      ]
    },
    {
      "cell_type": "code",
      "metadata": {
        "id": "vmDZ5nIOEj1A",
        "colab_type": "code",
        "colab": {
          "base_uri": "https://localhost:8080/",
          "height": 399
        },
        "outputId": "aa52ab87-145c-4f6b-dcd0-4994ead1f547"
      },
      "source": [
        "autoencoder.fit(x_train, x_train,\n",
        "                epochs=10,\n",
        "                batch_size=256,\n",
        "                shuffle=True,\n",
        "                validation_data=(x_test, x_test))"
      ],
      "execution_count": 7,
      "outputs": [
        {
          "output_type": "stream",
          "text": [
            "Train on 60000 samples, validate on 10000 samples\n",
            "Epoch 1/10\n",
            "60000/60000 [==============================] - 3s 49us/step - loss: 0.3638 - val_loss: 0.2711\n",
            "Epoch 2/10\n",
            "60000/60000 [==============================] - 3s 43us/step - loss: 0.2632 - val_loss: 0.2515\n",
            "Epoch 3/10\n",
            "60000/60000 [==============================] - 3s 44us/step - loss: 0.2404 - val_loss: 0.2274\n",
            "Epoch 4/10\n",
            "60000/60000 [==============================] - 3s 45us/step - loss: 0.2196 - val_loss: 0.2099\n",
            "Epoch 5/10\n",
            "60000/60000 [==============================] - 3s 45us/step - loss: 0.2050 - val_loss: 0.1977\n",
            "Epoch 6/10\n",
            "60000/60000 [==============================] - 3s 45us/step - loss: 0.1945 - val_loss: 0.1885\n",
            "Epoch 7/10\n",
            "60000/60000 [==============================] - 3s 44us/step - loss: 0.1863 - val_loss: 0.1811\n",
            "Epoch 8/10\n",
            "60000/60000 [==============================] - 3s 44us/step - loss: 0.1796 - val_loss: 0.1749\n",
            "Epoch 9/10\n",
            "60000/60000 [==============================] - 3s 45us/step - loss: 0.1737 - val_loss: 0.1695\n",
            "Epoch 10/10\n",
            "60000/60000 [==============================] - 3s 45us/step - loss: 0.1686 - val_loss: 0.1647\n"
          ],
          "name": "stdout"
        },
        {
          "output_type": "execute_result",
          "data": {
            "text/plain": [
              "<keras.callbacks.callbacks.History at 0x7f4abb567eb8>"
            ]
          },
          "metadata": {
            "tags": []
          },
          "execution_count": 7
        }
      ]
    },
    {
      "cell_type": "code",
      "metadata": {
        "id": "KA_RrdKWErPh",
        "colab_type": "code",
        "colab": {}
      },
      "source": [
        "# encode and decode some digits\n",
        "# note that we take them from the *test* set\n",
        "encoded_imgs = encoder.predict(x_test)\n",
        "decoded_imgs = decoder.predict(encoded_imgs)"
      ],
      "execution_count": 8,
      "outputs": []
    },
    {
      "cell_type": "code",
      "metadata": {
        "id": "-ojJjxO6Et3N",
        "colab_type": "code",
        "colab": {
          "base_uri": "https://localhost:8080/",
          "height": 248
        },
        "outputId": "8b0c6db0-1b6c-4647-dc30-5508619714b0"
      },
      "source": [
        "# use Matplotlib (don't ask)\n",
        "import matplotlib.pyplot as plt\n",
        "\n",
        "n = 10  # how many digits we will display\n",
        "plt.figure(figsize=(20, 4))\n",
        "for i in range(n):\n",
        "    # display original\n",
        "    ax = plt.subplot(2, n, i + 1)\n",
        "    plt.imshow(x_test[i].reshape(28, 28))\n",
        "    plt.gray()\n",
        "    ax.get_xaxis().set_visible(False)\n",
        "    ax.get_yaxis().set_visible(False)\n",
        "\n",
        "    # display reconstruction\n",
        "    ax = plt.subplot(2, n, i + 1 + n)\n",
        "    plt.imshow(decoded_imgs[i].reshape(28, 28))\n",
        "    plt.gray()\n",
        "    ax.get_xaxis().set_visible(False)\n",
        "    ax.get_yaxis().set_visible(False)\n",
        "plt.show()"
      ],
      "execution_count": 9,
      "outputs": [
        {
          "output_type": "display_data",
          "data": {
            "image/png": "[encoded data removed]",
            "text/plain": [
              "<Figure size 1440x288 with 20 Axes>"
            ]
          },
          "metadata": {
            "tags": [],
            "needs_background": "light"
          }
        }
      ]
    },
    {
      "cell_type": "code",
      "metadata": {
        "id": "D4Zp1kXGE2Lc",
        "colab_type": "code",
        "colab": {}
      },
      "source": [
        "\n",
        "\n",
        "from keras import regularizers\n",
        "\n",
        "encoding_dim = 32\n",
        "\n",
        "input_img = Input(shape=(784,))\n",
        "# add a Dense layer with a L1 activity regularizer\n",
        "encoded = Dense(encoding_dim, activation='relu',\n",
        "                activity_regularizer=regularizers.l1(10e-5))(input_img)\n",
        "decoded = Dense(784, activation='sigmoid')(encoded)\n",
        "\n",
        "autoencoder = Model(input_img, decoded)\n"
      ],
      "execution_count": 10,
      "outputs": []
    },
    {
      "cell_type": "code",
      "metadata": {
        "id": "yNA7M1NXE4wp",
        "colab_type": "code",
        "colab": {}
      },
      "source": [
        "input_img = Input(shape=(784,))\n",
        "encoded = Dense(128, activation='relu')(input_img)\n",
        "encoded = Dense(64, activation='relu')(encoded)\n",
        "encoded = Dense(32, activation='relu')(encoded)\n",
        "\n",
        "decoded = Dense(64, activation='relu')(encoded)\n",
        "decoded = Dense(128, activation='relu')(decoded)\n",
        "decoded = Dense(784, activation='sigmoid')(decoded)"
      ],
      "execution_count": 11,
      "outputs": []
    },
    {
      "cell_type": "code",
      "metadata": {
        "id": "aqX7ZMN-D225",
        "colab_type": "code",
        "colab": {
          "base_uri": "https://localhost:8080/",
          "height": 1000
        },
        "outputId": "ec14b57f-2c50-47ac-b21b-f794f14ac73c"
      },
      "source": [
        "autoencoder = Model(input_img, decoded)\n",
        "autoencoder.compile(optimizer='adadelta', loss='binary_crossentropy')\n",
        "\n",
        "autoencoder.fit(x_train, x_train,\n",
        "                epochs=10,\n",
        "                batch_size=256,\n",
        "                shuffle=True,\n",
        "                validation_data=(x_test, x_test))"
      ],
      "execution_count": 12,
      "outputs": [
        {
          "output_type": "stream",
          "text": [
            "Train on 60000 samples, validate on 10000 samples\n",
            "Epoch 1/100\n",
            "60000/60000 [==============================] - 5s 77us/step - loss: 0.3350 - val_loss: 0.2644\n",
            "Epoch 2/100\n",
            "60000/60000 [==============================] - 4s 73us/step - loss: 0.2570 - val_loss: 0.2500\n",
            "Epoch 3/100\n",
            "60000/60000 [==============================] - 4s 73us/step - loss: 0.2338 - val_loss: 0.2183\n",
            "Epoch 4/100\n",
            "60000/60000 [==============================] - 4s 74us/step - loss: 0.2140 - val_loss: 0.2079\n",
            "Epoch 5/100\n",
            "60000/60000 [==============================] - 4s 72us/step - loss: 0.2012 - val_loss: 0.1947\n",
            "Epoch 6/100\n",
            "60000/60000 [==============================] - 4s 73us/step - loss: 0.1906 - val_loss: 0.1852\n",
            "Epoch 7/100\n",
            "60000/60000 [==============================] - 4s 73us/step - loss: 0.1820 - val_loss: 0.1766\n",
            "Epoch 8/100\n",
            "60000/60000 [==============================] - 4s 73us/step - loss: 0.1758 - val_loss: 0.1711\n",
            "Epoch 9/100\n",
            "60000/60000 [==============================] - 4s 75us/step - loss: 0.1699 - val_loss: 0.1677\n",
            "Epoch 10/100\n",
            "60000/60000 [==============================] - 5s 79us/step - loss: 0.1651 - val_loss: 0.1641\n",
            "Epoch 11/100\n",
            "60000/60000 [==============================] - 4s 73us/step - loss: 0.1610 - val_loss: 0.1596\n",
            "Epoch 12/100\n",
            "60000/60000 [==============================] - 4s 73us/step - loss: 0.1578 - val_loss: 0.1551\n",
            "Epoch 13/100\n",
            "60000/60000 [==============================] - 4s 74us/step - loss: 0.1541 - val_loss: 0.1522\n",
            "Epoch 14/100\n",
            "60000/60000 [==============================] - 4s 73us/step - loss: 0.1509 - val_loss: 0.1487\n",
            "Epoch 15/100\n",
            "60000/60000 [==============================] - 4s 73us/step - loss: 0.1478 - val_loss: 0.1464\n",
            "Epoch 16/100\n",
            "60000/60000 [==============================] - 4s 72us/step - loss: 0.1456 - val_loss: 0.1433\n",
            "Epoch 17/100\n",
            "60000/60000 [==============================] - 4s 73us/step - loss: 0.1437 - val_loss: 0.1418\n",
            "Epoch 18/100\n",
            "60000/60000 [==============================] - 5s 76us/step - loss: 0.1419 - val_loss: 0.1413\n",
            "Epoch 19/100\n",
            "60000/60000 [==============================] - 5s 80us/step - loss: 0.1401 - val_loss: 0.1380\n",
            "Epoch 20/100\n",
            "60000/60000 [==============================] - 5s 81us/step - loss: 0.1384 - val_loss: 0.1365\n",
            "Epoch 21/100\n",
            "60000/60000 [==============================] - 5s 80us/step - loss: 0.1371 - val_loss: 0.1353\n",
            "Epoch 22/100\n",
            "60000/60000 [==============================] - 5s 80us/step - loss: 0.1355 - val_loss: 0.1328\n",
            "Epoch 23/100\n",
            "60000/60000 [==============================] - 5s 77us/step - loss: 0.1343 - val_loss: 0.1326\n",
            "Epoch 24/100\n",
            "60000/60000 [==============================] - 4s 73us/step - loss: 0.1330 - val_loss: 0.1306\n",
            "Epoch 25/100\n",
            "60000/60000 [==============================] - 4s 73us/step - loss: 0.1317 - val_loss: 0.1313\n",
            "Epoch 26/100\n",
            "60000/60000 [==============================] - 4s 72us/step - loss: 0.1305 - val_loss: 0.1273\n",
            "Epoch 27/100\n",
            "60000/60000 [==============================] - 4s 73us/step - loss: 0.1292 - val_loss: 0.1268\n",
            "Epoch 28/100\n",
            "60000/60000 [==============================] - 4s 72us/step - loss: 0.1281 - val_loss: 0.1254\n",
            "Epoch 29/100\n",
            "60000/60000 [==============================] - 4s 72us/step - loss: 0.1270 - val_loss: 0.1250\n",
            "Epoch 30/100\n",
            "60000/60000 [==============================] - 4s 73us/step - loss: 0.1258 - val_loss: 0.1236\n",
            "Epoch 31/100\n",
            "60000/60000 [==============================] - 4s 73us/step - loss: 0.1246 - val_loss: 0.1242\n",
            "Epoch 32/100\n",
            "60000/60000 [==============================] - 4s 72us/step - loss: 0.1235 - val_loss: 0.1222\n",
            "Epoch 33/100\n",
            "60000/60000 [==============================] - 4s 72us/step - loss: 0.1227 - val_loss: 0.1205\n",
            "Epoch 34/100\n",
            "60000/60000 [==============================] - 4s 74us/step - loss: 0.1217 - val_loss: 0.1206\n",
            "Epoch 35/100\n",
            "60000/60000 [==============================] - 4s 73us/step - loss: 0.1208 - val_loss: 0.1184\n",
            "Epoch 36/100\n",
            "60000/60000 [==============================] - 4s 72us/step - loss: 0.1201 - val_loss: 0.1172\n",
            "Epoch 37/100\n",
            "60000/60000 [==============================] - 4s 71us/step - loss: 0.1192 - val_loss: 0.1185\n",
            "Epoch 38/100\n",
            "60000/60000 [==============================] - 4s 73us/step - loss: 0.1184 - val_loss: 0.1171\n",
            "Epoch 39/100\n",
            "60000/60000 [==============================] - 4s 74us/step - loss: 0.1176 - val_loss: 0.1156\n",
            "Epoch 40/100\n",
            "60000/60000 [==============================] - 5s 82us/step - loss: 0.1169 - val_loss: 0.1162\n",
            "Epoch 41/100\n",
            "60000/60000 [==============================] - 5s 79us/step - loss: 0.1162 - val_loss: 0.1157\n",
            "Epoch 42/100\n",
            "60000/60000 [==============================] - 5s 81us/step - loss: 0.1155 - val_loss: 0.1137\n",
            "Epoch 43/100\n",
            "60000/60000 [==============================] - 5s 76us/step - loss: 0.1149 - val_loss: 0.1115\n",
            "Epoch 44/100\n",
            "60000/60000 [==============================] - 4s 75us/step - loss: 0.1142 - val_loss: 0.1129\n",
            "Epoch 45/100\n",
            "60000/60000 [==============================] - 4s 74us/step - loss: 0.1136 - val_loss: 0.1121\n",
            "Epoch 46/100\n",
            "60000/60000 [==============================] - 4s 73us/step - loss: 0.1131 - val_loss: 0.1104\n",
            "Epoch 47/100\n",
            "60000/60000 [==============================] - 4s 75us/step - loss: 0.1125 - val_loss: 0.1103\n",
            "Epoch 48/100\n",
            "60000/60000 [==============================] - 4s 74us/step - loss: 0.1120 - val_loss: 0.1125\n",
            "Epoch 49/100\n",
            "60000/60000 [==============================] - 4s 74us/step - loss: 0.1114 - val_loss: 0.1094\n",
            "Epoch 50/100\n",
            "60000/60000 [==============================] - 4s 75us/step - loss: 0.1109 - val_loss: 0.1093\n",
            "Epoch 51/100\n",
            "60000/60000 [==============================] - 4s 74us/step - loss: 0.1105 - val_loss: 0.1080\n",
            "Epoch 52/100\n",
            "60000/60000 [==============================] - 4s 73us/step - loss: 0.1101 - val_loss: 0.1099\n",
            "Epoch 53/100\n",
            "60000/60000 [==============================] - 4s 73us/step - loss: 0.1097 - val_loss: 0.1095\n",
            "Epoch 54/100\n",
            "60000/60000 [==============================] - 4s 74us/step - loss: 0.1092 - val_loss: 0.1070\n",
            "Epoch 55/100\n",
            "60000/60000 [==============================] - 4s 73us/step - loss: 0.1089 - val_loss: 0.1071\n",
            "Epoch 56/100\n",
            "60000/60000 [==============================] - 4s 73us/step - loss: 0.1087 - val_loss: 0.1063\n",
            "Epoch 57/100\n",
            "60000/60000 [==============================] - 4s 74us/step - loss: 0.1082 - val_loss: 0.1074\n",
            "Epoch 58/100\n",
            "60000/60000 [==============================] - 4s 74us/step - loss: 0.1077 - val_loss: 0.1053\n",
            "Epoch 59/100\n",
            "60000/60000 [==============================] - 4s 73us/step - loss: 0.1074 - val_loss: 0.1058\n",
            "Epoch 60/100\n",
            "60000/60000 [==============================] - 4s 74us/step - loss: 0.1070 - val_loss: 0.1063\n",
            "Epoch 61/100\n",
            "60000/60000 [==============================] - 4s 74us/step - loss: 0.1068 - val_loss: 0.1052\n",
            "Epoch 62/100\n",
            "60000/60000 [==============================] - 4s 74us/step - loss: 0.1066 - val_loss: 0.1051\n",
            "Epoch 63/100\n",
            "60000/60000 [==============================] - 4s 72us/step - loss: 0.1063 - val_loss: 0.1042\n",
            "Epoch 64/100\n",
            "60000/60000 [==============================] - 4s 73us/step - loss: 0.1059 - val_loss: 0.1052\n",
            "Epoch 65/100\n",
            "60000/60000 [==============================] - 4s 73us/step - loss: 0.1057 - val_loss: 0.1043\n",
            "Epoch 66/100\n",
            "60000/60000 [==============================] - 4s 73us/step - loss: 0.1054 - val_loss: 0.1036\n",
            "Epoch 67/100\n",
            "60000/60000 [==============================] - 4s 74us/step - loss: 0.1051 - val_loss: 0.1028\n",
            "Epoch 68/100\n",
            "60000/60000 [==============================] - 4s 73us/step - loss: 0.1050 - val_loss: 0.1025\n",
            "Epoch 69/100\n",
            "60000/60000 [==============================] - 4s 73us/step - loss: 0.1047 - val_loss: 0.1034\n",
            "Epoch 70/100\n",
            "60000/60000 [==============================] - 4s 72us/step - loss: 0.1045 - val_loss: 0.1050\n",
            "Epoch 71/100\n",
            "60000/60000 [==============================] - 4s 74us/step - loss: 0.1042 - val_loss: 0.1030\n",
            "Epoch 72/100\n",
            "60000/60000 [==============================] - 4s 74us/step - loss: 0.1040 - val_loss: 0.1046\n",
            "Epoch 73/100\n",
            "60000/60000 [==============================] - 4s 73us/step - loss: 0.1039 - val_loss: 0.1017\n",
            "Epoch 74/100\n",
            "60000/60000 [==============================] - 4s 73us/step - loss: 0.1036 - val_loss: 0.1049\n",
            "Epoch 75/100\n",
            "60000/60000 [==============================] - 4s 75us/step - loss: 0.1035 - val_loss: 0.1048\n",
            "Epoch 76/100\n",
            "60000/60000 [==============================] - 4s 73us/step - loss: 0.1033 - val_loss: 0.1019\n",
            "Epoch 77/100\n",
            "60000/60000 [==============================] - 4s 74us/step - loss: 0.1031 - val_loss: 0.1021\n",
            "Epoch 78/100\n",
            "60000/60000 [==============================] - 4s 74us/step - loss: 0.1029 - val_loss: 0.1011\n",
            "Epoch 79/100\n",
            "60000/60000 [==============================] - 4s 73us/step - loss: 0.1027 - val_loss: 0.1011\n",
            "Epoch 80/100\n",
            "60000/60000 [==============================] - 4s 74us/step - loss: 0.1025 - val_loss: 0.1014\n",
            "Epoch 81/100\n",
            "60000/60000 [==============================] - 4s 73us/step - loss: 0.1023 - val_loss: 0.1009\n",
            "Epoch 82/100\n",
            "60000/60000 [==============================] - 4s 73us/step - loss: 0.1022 - val_loss: 0.1015\n",
            "Epoch 83/100\n",
            "60000/60000 [==============================] - 4s 74us/step - loss: 0.1019 - val_loss: 0.1000\n",
            "Epoch 84/100\n",
            "60000/60000 [==============================] - 4s 74us/step - loss: 0.1018 - val_loss: 0.1001\n",
            "Epoch 85/100\n",
            "60000/60000 [==============================] - 4s 75us/step - loss: 0.1016 - val_loss: 0.0995\n",
            "Epoch 86/100\n",
            "60000/60000 [==============================] - 4s 74us/step - loss: 0.1015 - val_loss: 0.1007\n",
            "Epoch 87/100\n",
            "60000/60000 [==============================] - 4s 75us/step - loss: 0.1012 - val_loss: 0.1013\n",
            "Epoch 88/100\n",
            "60000/60000 [==============================] - 4s 74us/step - loss: 0.1012 - val_loss: 0.1010\n",
            "Epoch 89/100\n",
            "60000/60000 [==============================] - 5s 76us/step - loss: 0.1009 - val_loss: 0.1007\n",
            "Epoch 90/100\n",
            "60000/60000 [==============================] - 4s 74us/step - loss: 0.1008 - val_loss: 0.0979\n",
            "Epoch 91/100\n",
            "60000/60000 [==============================] - 5s 79us/step - loss: 0.1007 - val_loss: 0.1012\n",
            "Epoch 92/100\n",
            "60000/60000 [==============================] - 5s 79us/step - loss: 0.1005 - val_loss: 0.1002\n",
            "Epoch 93/100\n",
            "60000/60000 [==============================] - 5s 76us/step - loss: 0.1004 - val_loss: 0.0991\n",
            "Epoch 94/100\n",
            "60000/60000 [==============================] - 4s 73us/step - loss: 0.1002 - val_loss: 0.0998\n",
            "Epoch 95/100\n",
            "60000/60000 [==============================] - 4s 72us/step - loss: 0.1000 - val_loss: 0.0997\n",
            "Epoch 96/100\n",
            "60000/60000 [==============================] - 4s 73us/step - loss: 0.0999 - val_loss: 0.0997\n",
            "Epoch 97/100\n",
            "60000/60000 [==============================] - 4s 73us/step - loss: 0.0998 - val_loss: 0.0978\n",
            "Epoch 98/100\n",
            "60000/60000 [==============================] - 4s 73us/step - loss: 0.0997 - val_loss: 0.0983\n",
            "Epoch 99/100\n",
            "60000/60000 [==============================] - 4s 73us/step - loss: 0.0994 - val_loss: 0.1008\n",
            "Epoch 100/100\n",
            "60000/60000 [==============================] - 4s 73us/step - loss: 0.0994 - val_loss: 0.0991\n"
          ],
          "name": "stdout"
        },
        {
          "output_type": "execute_result",
          "data": {
            "text/plain": [
              "<keras.callbacks.callbacks.History at 0x7f4ab6be1780>"
            ]
          },
          "metadata": {
            "tags": []
          },
          "execution_count": 12
        }
      ]
    },
    {
      "cell_type": "markdown",
      "metadata": {
        "id": "e6dJwU38-eWj",
        "colab_type": "text"
      },
      "source": [
        "# image denoising"
      ]
    },
    {
      "cell_type": "code",
      "metadata": {
        "id": "G6xPBo0hA1Qo",
        "colab_type": "code",
        "colab": {}
      },
      "source": [
        "from keras.datasets import mnist\n",
        "import numpy as np\n",
        "\n",
        "(x_train, _), (x_test, _) = mnist.load_data()\n",
        "\n",
        "x_train = x_train.astype('float32') / 255.\n",
        "x_test = x_test.astype('float32') / 255.\n",
        "x_train = np.reshape(x_train, (len(x_train), 28, 28, 1))  # adapt this if using `channels_first` image data format\n",
        "x_test = np.reshape(x_test, (len(x_test), 28, 28, 1))  # adapt this if using `channels_first` image data format\n",
        "\n",
        "noise_factor = 0.5\n",
        "x_train_noisy = x_train + noise_factor * np.random.normal(loc=0.0, scale=1.0, size=x_train.shape) \n",
        "x_test_noisy = x_test + noise_factor * np.random.normal(loc=0.0, scale=1.0, size=x_test.shape) \n",
        "\n",
        "x_train_noisy = np.clip(x_train_noisy, 0., 1.)\n",
        "x_test_noisy = np.clip(x_test_noisy, 0., 1.)\n"
      ],
      "execution_count": 22,
      "outputs": []
    },
    {
      "cell_type": "code",
      "metadata": {
        "id": "YDTrtRE3BcYE",
        "colab_type": "code",
        "colab": {}
      },
      "source": [
        "input_img = Input(shape=(28, 28, 1))  # adapt this if using `channels_first` image data format\n",
        "\n",
        "x = Conv2D(32, (3, 3), activation='relu', padding='same')(input_img)\n",
        "x = MaxPooling2D((2, 2), padding='same')(x)\n",
        "x = Conv2D(32, (3, 3), activation='relu', padding='same')(x)\n",
        "encoded = MaxPooling2D((2, 2), padding='same')(x)\n",
        "\n",
        "# at this point the representation is (7, 7, 32)\n",
        "\n",
        "x = Conv2D(32, (3, 3), activation='relu', padding='same')(encoded)\n",
        "x = UpSampling2D((2, 2))(x)\n",
        "x = Conv2D(32, (3, 3), activation='relu', padding='same')(x)\n",
        "x = UpSampling2D((2, 2))(x)\n",
        "decoded = Conv2D(1, (3, 3), activation='sigmoid', padding='same')(x)\n",
        "\n",
        "autoencoder = Model(input_img, decoded)\n",
        "autoencoder.compile(optimizer='adadelta', loss='binary_crossentropy')"
      ],
      "execution_count": 24,
      "outputs": []
    },
    {
      "cell_type": "code",
      "metadata": {
        "id": "JriHmAYvHiVH",
        "colab_type": "code",
        "colab": {
          "base_uri": "https://localhost:8080/",
          "height": 69
        },
        "outputId": "922ec3de-d70f-411a-f5ad-862eb94da9d1"
      },
      "source": [
        "autoencoder.fit(x_train_noisy, x_train,\n",
        "                epochs=5,\n",
        "                batch_size=128,\n",
        "                shuffle=True,\n",
        "                validation_data=(x_test_noisy, x_test),\n",
        "                callbacks=[TensorBoard(log_dir='/tmp/tb', histogram_freq=0, write_graph=False)])"
      ],
      "execution_count": null,
      "outputs": [
        {
          "output_type": "stream",
          "text": [
            "Train on 60000 samples, validate on 10000 samples\n",
            "Epoch 1/5\n",
            "21632/60000 [=========>....................] - ETA: 1:34 - loss: 0.1438"
          ],
          "name": "stdout"
        }
      ]
    }
  ]
}